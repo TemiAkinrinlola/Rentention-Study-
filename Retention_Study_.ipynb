{
  "nbformat": 4,
  "nbformat_minor": 0,
  "metadata": {
    "colab": {
      "name": "Retention_Study_.ipynb",
      "provenance": []
    },
    "kernelspec": {
      "name": "python3",
      "display_name": "Python 3"
    }
  },
  "cells": [
    {
      "cell_type": "markdown",
      "metadata": {
        "id": "S00CGJTS1MME",
        "colab_type": "text"
      },
      "source": [
        "**DEFINE**"
      ]
    },
    {
      "cell_type": "markdown",
      "metadata": {
        "id": "DzX7HnDL1Ruj",
        "colab_type": "text"
      },
      "source": [
        "This is a project aimed at predicting the which employees of an organization will likely quit."
      ]
    },
    {
      "cell_type": "code",
      "metadata": {
        "id": "bxLdUaVq1jS8",
        "colab_type": "code",
        "colab": {
          "base_uri": "https://localhost:8080/",
          "height": 70
        },
        "outputId": "6f8ad692-1f84-4f3b-f015-002d25d847ea"
      },
      "source": [
        "#importing the necessary libaries\n",
        "import pandas as pd\n",
        "import numpy as np\n",
        "import matplotlib.pyplot as plt\n",
        "import seaborn as sns\n",
        "_author_=\"Temi Akinrinlola\"\n",
        "_email_=\"tope.akinrinlola@gmail.com\""
      ],
      "execution_count": 1,
      "outputs": [
        {
          "output_type": "stream",
          "text": [
            "/usr/local/lib/python3.6/dist-packages/statsmodels/tools/_testing.py:19: FutureWarning: pandas.util.testing is deprecated. Use the functions in the public API at pandas.testing instead.\n",
            "  import pandas.util.testing as tm\n"
          ],
          "name": "stderr"
        }
      ]
    },
    {
      "cell_type": "markdown",
      "metadata": {
        "id": "1bBb4itv2RKz",
        "colab_type": "text"
      },
      "source": [
        "**DISCOVER**"
      ]
    },
    {
      "cell_type": "code",
      "metadata": {
        "id": "MVwOkt032VcB",
        "colab_type": "code",
        "colab": {}
      },
      "source": [
        "#loading the datasets\n",
        "\n",
        "hrRecord_df=pd.read_csv(\"hr_data.csv\")\n"
      ],
      "execution_count": 2,
      "outputs": []
    },
    {
      "cell_type": "code",
      "metadata": {
        "id": "Ma6RB3h13gAz",
        "colab_type": "code",
        "colab": {
          "base_uri": "https://localhost:8080/",
          "height": 215
        },
        "outputId": "6f8f626a-9932-421b-9fc9-80b4458e4b24"
      },
      "source": [
        "#previewing the first 5 rows of the datasets\n",
        "hrRecord_df.head()"
      ],
      "execution_count": 3,
      "outputs": [
        {
          "output_type": "execute_result",
          "data": {
            "text/html": [
              "<div>\n",
              "<style scoped>\n",
              "    .dataframe tbody tr th:only-of-type {\n",
              "        vertical-align: middle;\n",
              "    }\n",
              "\n",
              "    .dataframe tbody tr th {\n",
              "        vertical-align: top;\n",
              "    }\n",
              "\n",
              "    .dataframe thead th {\n",
              "        text-align: right;\n",
              "    }\n",
              "</style>\n",
              "<table border=\"1\" class=\"dataframe\">\n",
              "  <thead>\n",
              "    <tr style=\"text-align: right;\">\n",
              "      <th></th>\n",
              "      <th>employee_id</th>\n",
              "      <th>number_project</th>\n",
              "      <th>average_montly_hours</th>\n",
              "      <th>time_spend_company</th>\n",
              "      <th>Work_accident</th>\n",
              "      <th>left</th>\n",
              "      <th>promotion_last_5years</th>\n",
              "      <th>department</th>\n",
              "      <th>salary</th>\n",
              "    </tr>\n",
              "  </thead>\n",
              "  <tbody>\n",
              "    <tr>\n",
              "      <th>0</th>\n",
              "      <td>1003</td>\n",
              "      <td>2</td>\n",
              "      <td>157</td>\n",
              "      <td>3</td>\n",
              "      <td>0</td>\n",
              "      <td>1</td>\n",
              "      <td>0</td>\n",
              "      <td>sales</td>\n",
              "      <td>low</td>\n",
              "    </tr>\n",
              "    <tr>\n",
              "      <th>1</th>\n",
              "      <td>1005</td>\n",
              "      <td>5</td>\n",
              "      <td>262</td>\n",
              "      <td>6</td>\n",
              "      <td>0</td>\n",
              "      <td>1</td>\n",
              "      <td>0</td>\n",
              "      <td>sales</td>\n",
              "      <td>medium</td>\n",
              "    </tr>\n",
              "    <tr>\n",
              "      <th>2</th>\n",
              "      <td>1486</td>\n",
              "      <td>7</td>\n",
              "      <td>272</td>\n",
              "      <td>4</td>\n",
              "      <td>0</td>\n",
              "      <td>1</td>\n",
              "      <td>0</td>\n",
              "      <td>sales</td>\n",
              "      <td>medium</td>\n",
              "    </tr>\n",
              "    <tr>\n",
              "      <th>3</th>\n",
              "      <td>1038</td>\n",
              "      <td>5</td>\n",
              "      <td>223</td>\n",
              "      <td>5</td>\n",
              "      <td>0</td>\n",
              "      <td>1</td>\n",
              "      <td>0</td>\n",
              "      <td>sales</td>\n",
              "      <td>low</td>\n",
              "    </tr>\n",
              "    <tr>\n",
              "      <th>4</th>\n",
              "      <td>1057</td>\n",
              "      <td>2</td>\n",
              "      <td>159</td>\n",
              "      <td>3</td>\n",
              "      <td>0</td>\n",
              "      <td>1</td>\n",
              "      <td>0</td>\n",
              "      <td>sales</td>\n",
              "      <td>low</td>\n",
              "    </tr>\n",
              "  </tbody>\n",
              "</table>\n",
              "</div>"
            ],
            "text/plain": [
              "   employee_id  number_project  ...  department  salary\n",
              "0         1003               2  ...       sales     low\n",
              "1         1005               5  ...       sales  medium\n",
              "2         1486               7  ...       sales  medium\n",
              "3         1038               5  ...       sales     low\n",
              "4         1057               2  ...       sales     low\n",
              "\n",
              "[5 rows x 9 columns]"
            ]
          },
          "metadata": {
            "tags": []
          },
          "execution_count": 3
        }
      ]
    },
    {
      "cell_type": "code",
      "metadata": {
        "id": "QBVWR1Dw3ux6",
        "colab_type": "code",
        "colab": {
          "base_uri": "https://localhost:8080/",
          "height": 215
        },
        "outputId": "e06c674e-255f-4ae3-aa5a-04dc9e307573"
      },
      "source": [
        "#previewing the bottom 5 rows of the datasets\n",
        "hrRecord_df.tail()"
      ],
      "execution_count": 4,
      "outputs": [
        {
          "output_type": "execute_result",
          "data": {
            "text/html": [
              "<div>\n",
              "<style scoped>\n",
              "    .dataframe tbody tr th:only-of-type {\n",
              "        vertical-align: middle;\n",
              "    }\n",
              "\n",
              "    .dataframe tbody tr th {\n",
              "        vertical-align: top;\n",
              "    }\n",
              "\n",
              "    .dataframe thead th {\n",
              "        text-align: right;\n",
              "    }\n",
              "</style>\n",
              "<table border=\"1\" class=\"dataframe\">\n",
              "  <thead>\n",
              "    <tr style=\"text-align: right;\">\n",
              "      <th></th>\n",
              "      <th>employee_id</th>\n",
              "      <th>number_project</th>\n",
              "      <th>average_montly_hours</th>\n",
              "      <th>time_spend_company</th>\n",
              "      <th>Work_accident</th>\n",
              "      <th>left</th>\n",
              "      <th>promotion_last_5years</th>\n",
              "      <th>department</th>\n",
              "      <th>salary</th>\n",
              "    </tr>\n",
              "  </thead>\n",
              "  <tbody>\n",
              "    <tr>\n",
              "      <th>14994</th>\n",
              "      <td>87670</td>\n",
              "      <td>2</td>\n",
              "      <td>151</td>\n",
              "      <td>3</td>\n",
              "      <td>0</td>\n",
              "      <td>1</td>\n",
              "      <td>0</td>\n",
              "      <td>support</td>\n",
              "      <td>low</td>\n",
              "    </tr>\n",
              "    <tr>\n",
              "      <th>14995</th>\n",
              "      <td>87673</td>\n",
              "      <td>2</td>\n",
              "      <td>160</td>\n",
              "      <td>3</td>\n",
              "      <td>0</td>\n",
              "      <td>1</td>\n",
              "      <td>0</td>\n",
              "      <td>support</td>\n",
              "      <td>low</td>\n",
              "    </tr>\n",
              "    <tr>\n",
              "      <th>14996</th>\n",
              "      <td>87679</td>\n",
              "      <td>2</td>\n",
              "      <td>143</td>\n",
              "      <td>3</td>\n",
              "      <td>0</td>\n",
              "      <td>1</td>\n",
              "      <td>0</td>\n",
              "      <td>support</td>\n",
              "      <td>low</td>\n",
              "    </tr>\n",
              "    <tr>\n",
              "      <th>14997</th>\n",
              "      <td>87681</td>\n",
              "      <td>6</td>\n",
              "      <td>280</td>\n",
              "      <td>4</td>\n",
              "      <td>0</td>\n",
              "      <td>1</td>\n",
              "      <td>0</td>\n",
              "      <td>support</td>\n",
              "      <td>low</td>\n",
              "    </tr>\n",
              "    <tr>\n",
              "      <th>14998</th>\n",
              "      <td>87684</td>\n",
              "      <td>2</td>\n",
              "      <td>158</td>\n",
              "      <td>3</td>\n",
              "      <td>0</td>\n",
              "      <td>1</td>\n",
              "      <td>0</td>\n",
              "      <td>support</td>\n",
              "      <td>low</td>\n",
              "    </tr>\n",
              "  </tbody>\n",
              "</table>\n",
              "</div>"
            ],
            "text/plain": [
              "       employee_id  number_project  ...  department  salary\n",
              "14994        87670               2  ...     support     low\n",
              "14995        87673               2  ...     support     low\n",
              "14996        87679               2  ...     support     low\n",
              "14997        87681               6  ...     support     low\n",
              "14998        87684               2  ...     support     low\n",
              "\n",
              "[5 rows x 9 columns]"
            ]
          },
          "metadata": {
            "tags": []
          },
          "execution_count": 4
        }
      ]
    },
    {
      "cell_type": "code",
      "metadata": {
        "id": "YH7ssY-F38T2",
        "colab_type": "code",
        "colab": {
          "base_uri": "https://localhost:8080/",
          "height": 286
        },
        "outputId": "c1bb1234-cec5-4ad5-e9c4-5fb80c1b81e9"
      },
      "source": [
        "#examining the datasets\n",
        "#this prints a concise summary of the dataframe\n",
        "hrRecord_df.info()\n"
      ],
      "execution_count": 5,
      "outputs": [
        {
          "output_type": "stream",
          "text": [
            "<class 'pandas.core.frame.DataFrame'>\n",
            "RangeIndex: 14999 entries, 0 to 14998\n",
            "Data columns (total 9 columns):\n",
            " #   Column                 Non-Null Count  Dtype \n",
            "---  ------                 --------------  ----- \n",
            " 0   employee_id            14999 non-null  int64 \n",
            " 1   number_project         14999 non-null  int64 \n",
            " 2   average_montly_hours   14999 non-null  int64 \n",
            " 3   time_spend_company     14999 non-null  int64 \n",
            " 4   Work_accident          14999 non-null  int64 \n",
            " 5   left                   14999 non-null  int64 \n",
            " 6   promotion_last_5years  14999 non-null  int64 \n",
            " 7   department             14999 non-null  object\n",
            " 8   salary                 14999 non-null  object\n",
            "dtypes: int64(7), object(2)\n",
            "memory usage: 1.0+ MB\n"
          ],
          "name": "stdout"
        }
      ]
    },
    {
      "cell_type": "markdown",
      "metadata": {
        "id": "A9ES93nD49xk",
        "colab_type": "text"
      },
      "source": [
        "Overall,the dataset looks clean.Numeric values are stored as integers  and string values are stored as objects.\n",
        "\n",
        "The unique values of salary and department can be seen below:\n"
      ]
    },
    {
      "cell_type": "code",
      "metadata": {
        "id": "EL7nd_dSM2e6",
        "colab_type": "code",
        "colab": {
          "base_uri": "https://localhost:8080/",
          "height": 67
        },
        "outputId": "774b5ca2-c11f-4a41-cbfd-30ad4a62f6f5"
      },
      "source": [
        "print(hrRecord_df['department'].unique())\n",
        "print(hrRecord_df['salary'].unique())"
      ],
      "execution_count": 6,
      "outputs": [
        {
          "output_type": "stream",
          "text": [
            "['sales' 'accounting' 'hr' 'technical' 'support' 'management' 'IT'\n",
            " 'product_mng' 'marketing' 'RandD']\n",
            "['low' 'medium' 'high']\n"
          ],
          "name": "stdout"
        }
      ]
    },
    {
      "cell_type": "code",
      "metadata": {
        "id": "31gyeJWv6K0C",
        "colab_type": "code",
        "colab": {
          "base_uri": "https://localhost:8080/",
          "height": 34
        },
        "outputId": "f8b5ad81-ca70-4e8f-b51b-0e66e6ca5dd8"
      },
      "source": [
        "#determining the shape of our dataset i.e the number of rows and columns\n",
        "hrRecord_df.shape"
      ],
      "execution_count": 7,
      "outputs": [
        {
          "output_type": "execute_result",
          "data": {
            "text/plain": [
              "(14999, 9)"
            ]
          },
          "metadata": {
            "tags": []
          },
          "execution_count": 7
        }
      ]
    },
    {
      "cell_type": "markdown",
      "metadata": {
        "id": "rmOxrJTu9Rdx",
        "colab_type": "text"
      },
      "source": [
        "Load the other dataset;the employee satisfaction dataset. "
      ]
    },
    {
      "cell_type": "code",
      "metadata": {
        "id": "dTwnX5uc7raH",
        "colab_type": "code",
        "colab": {}
      },
      "source": [
        "#to add to the hrRecord dataset is the employee satisfaction dataset\n",
        "\n",
        "eSatisfaction_df =pd.read_excel(\"employee_satisfaction_evaluation.xlsx\")\n"
      ],
      "execution_count": 8,
      "outputs": []
    },
    {
      "cell_type": "code",
      "metadata": {
        "id": "SOxpy8yn8pfF",
        "colab_type": "code",
        "colab": {
          "base_uri": "https://localhost:8080/",
          "height": 195
        },
        "outputId": "ff48ef9b-61e0-4ecf-9b7b-d61e8eb2a066"
      },
      "source": [
        "#preview the first few rows of the dataset\n",
        "eSatisfaction_df.head()\n"
      ],
      "execution_count": 9,
      "outputs": [
        {
          "output_type": "execute_result",
          "data": {
            "text/html": [
              "<div>\n",
              "<style scoped>\n",
              "    .dataframe tbody tr th:only-of-type {\n",
              "        vertical-align: middle;\n",
              "    }\n",
              "\n",
              "    .dataframe tbody tr th {\n",
              "        vertical-align: top;\n",
              "    }\n",
              "\n",
              "    .dataframe thead th {\n",
              "        text-align: right;\n",
              "    }\n",
              "</style>\n",
              "<table border=\"1\" class=\"dataframe\">\n",
              "  <thead>\n",
              "    <tr style=\"text-align: right;\">\n",
              "      <th></th>\n",
              "      <th>EMPLOYEE #</th>\n",
              "      <th>satisfaction_level</th>\n",
              "      <th>last_evaluation</th>\n",
              "    </tr>\n",
              "  </thead>\n",
              "  <tbody>\n",
              "    <tr>\n",
              "      <th>0</th>\n",
              "      <td>1003</td>\n",
              "      <td>0.38</td>\n",
              "      <td>0.53</td>\n",
              "    </tr>\n",
              "    <tr>\n",
              "      <th>1</th>\n",
              "      <td>1005</td>\n",
              "      <td>0.80</td>\n",
              "      <td>0.86</td>\n",
              "    </tr>\n",
              "    <tr>\n",
              "      <th>2</th>\n",
              "      <td>1486</td>\n",
              "      <td>0.11</td>\n",
              "      <td>0.88</td>\n",
              "    </tr>\n",
              "    <tr>\n",
              "      <th>3</th>\n",
              "      <td>1038</td>\n",
              "      <td>0.72</td>\n",
              "      <td>0.87</td>\n",
              "    </tr>\n",
              "    <tr>\n",
              "      <th>4</th>\n",
              "      <td>1057</td>\n",
              "      <td>0.37</td>\n",
              "      <td>0.52</td>\n",
              "    </tr>\n",
              "  </tbody>\n",
              "</table>\n",
              "</div>"
            ],
            "text/plain": [
              "   EMPLOYEE #  satisfaction_level  last_evaluation\n",
              "0        1003                0.38             0.53\n",
              "1        1005                0.80             0.86\n",
              "2        1486                0.11             0.88\n",
              "3        1038                0.72             0.87\n",
              "4        1057                0.37             0.52"
            ]
          },
          "metadata": {
            "tags": []
          },
          "execution_count": 9
        }
      ]
    },
    {
      "cell_type": "code",
      "metadata": {
        "id": "9RaYYGxK82yi",
        "colab_type": "code",
        "colab": {
          "base_uri": "https://localhost:8080/",
          "height": 34
        },
        "outputId": "e1c8b04d-0e55-497d-973e-0141b064ba37"
      },
      "source": [
        "eSatisfaction_df.shape"
      ],
      "execution_count": 10,
      "outputs": [
        {
          "output_type": "execute_result",
          "data": {
            "text/plain": [
              "(14999, 3)"
            ]
          },
          "metadata": {
            "tags": []
          },
          "execution_count": 10
        }
      ]
    },
    {
      "cell_type": "markdown",
      "metadata": {
        "id": "tp5sGAJX9ozl",
        "colab_type": "text"
      },
      "source": [
        "Merge/join tables from the two dataframes.Here ,we assume that the employee_id and EMPLOYEE # indicate the same thing ,that is ,the unique number describing each employee.\n"
      ]
    },
    {
      "cell_type": "code",
      "metadata": {
        "id": "YLnluO-99yYv",
        "colab_type": "code",
        "colab": {
          "base_uri": "https://localhost:8080/",
          "height": 34
        },
        "outputId": "480bf260-769a-453d-8a58-7453a20be5cb"
      },
      "source": [
        "dataset_df =hrRecord_df.set_index('employee_id').join(eSatisfaction_df.set_index('EMPLOYEE #'))\n",
        "dataset_df =dataset_df.reset_index() #flattens the unnecessary hierarachy\n",
        "dataset_df.head()\n",
        "\n",
        "dataset_df.shape"
      ],
      "execution_count": 11,
      "outputs": [
        {
          "output_type": "execute_result",
          "data": {
            "text/plain": [
              "(14999, 11)"
            ]
          },
          "metadata": {
            "tags": []
          },
          "execution_count": 11
        }
      ]
    },
    {
      "cell_type": "markdown",
      "metadata": {
        "id": "q8cIRgViAAWf",
        "colab_type": "text"
      },
      "source": [
        "Are there missing values in this dataset?"
      ]
    },
    {
      "cell_type": "code",
      "metadata": {
        "id": "BltP-zvfAIxI",
        "colab_type": "code",
        "colab": {
          "base_uri": "https://localhost:8080/",
          "height": 218
        },
        "outputId": "48dbe447-1ae0-4f2e-82d1-0197b5cae828"
      },
      "source": [
        "dataset_df.isnull().sum()"
      ],
      "execution_count": 12,
      "outputs": [
        {
          "output_type": "execute_result",
          "data": {
            "text/plain": [
              "employee_id               0\n",
              "number_project            0\n",
              "average_montly_hours      0\n",
              "time_spend_company        0\n",
              "Work_accident             0\n",
              "left                      0\n",
              "promotion_last_5years     0\n",
              "department                0\n",
              "salary                    0\n",
              "satisfaction_level       27\n",
              "last_evaluation          27\n",
              "dtype: int64"
            ]
          },
          "metadata": {
            "tags": []
          },
          "execution_count": 12
        }
      ]
    },
    {
      "cell_type": "code",
      "metadata": {
        "id": "tfbifffmfjLI",
        "colab_type": "code",
        "colab": {
          "base_uri": "https://localhost:8080/",
          "height": 215
        },
        "outputId": "a2988f81-2580-4d9d-e08f-98c6fb1edd10"
      },
      "source": [
        "dataset_df.fillna(dataset_df.mean(),inplace =True)\n",
        "dataset_df.head()"
      ],
      "execution_count": null,
      "outputs": [
        {
          "output_type": "execute_result",
          "data": {
            "text/html": [
              "<div>\n",
              "<style scoped>\n",
              "    .dataframe tbody tr th:only-of-type {\n",
              "        vertical-align: middle;\n",
              "    }\n",
              "\n",
              "    .dataframe tbody tr th {\n",
              "        vertical-align: top;\n",
              "    }\n",
              "\n",
              "    .dataframe thead th {\n",
              "        text-align: right;\n",
              "    }\n",
              "</style>\n",
              "<table border=\"1\" class=\"dataframe\">\n",
              "  <thead>\n",
              "    <tr style=\"text-align: right;\">\n",
              "      <th></th>\n",
              "      <th>employee_id</th>\n",
              "      <th>number_project</th>\n",
              "      <th>average_montly_hours</th>\n",
              "      <th>time_spend_company</th>\n",
              "      <th>Work_accident</th>\n",
              "      <th>left</th>\n",
              "      <th>promotion_last_5years</th>\n",
              "      <th>department</th>\n",
              "      <th>salary</th>\n",
              "      <th>satisfaction_level</th>\n",
              "      <th>last_evaluation</th>\n",
              "    </tr>\n",
              "  </thead>\n",
              "  <tbody>\n",
              "    <tr>\n",
              "      <th>0</th>\n",
              "      <td>1003</td>\n",
              "      <td>2</td>\n",
              "      <td>157</td>\n",
              "      <td>3</td>\n",
              "      <td>0</td>\n",
              "      <td>1</td>\n",
              "      <td>0</td>\n",
              "      <td>sales</td>\n",
              "      <td>low</td>\n",
              "      <td>0.38</td>\n",
              "      <td>0.53</td>\n",
              "    </tr>\n",
              "    <tr>\n",
              "      <th>1</th>\n",
              "      <td>1005</td>\n",
              "      <td>5</td>\n",
              "      <td>262</td>\n",
              "      <td>6</td>\n",
              "      <td>0</td>\n",
              "      <td>1</td>\n",
              "      <td>0</td>\n",
              "      <td>sales</td>\n",
              "      <td>medium</td>\n",
              "      <td>0.80</td>\n",
              "      <td>0.86</td>\n",
              "    </tr>\n",
              "    <tr>\n",
              "      <th>2</th>\n",
              "      <td>1486</td>\n",
              "      <td>7</td>\n",
              "      <td>272</td>\n",
              "      <td>4</td>\n",
              "      <td>0</td>\n",
              "      <td>1</td>\n",
              "      <td>0</td>\n",
              "      <td>sales</td>\n",
              "      <td>medium</td>\n",
              "      <td>0.11</td>\n",
              "      <td>0.88</td>\n",
              "    </tr>\n",
              "    <tr>\n",
              "      <th>3</th>\n",
              "      <td>1038</td>\n",
              "      <td>5</td>\n",
              "      <td>223</td>\n",
              "      <td>5</td>\n",
              "      <td>0</td>\n",
              "      <td>1</td>\n",
              "      <td>0</td>\n",
              "      <td>sales</td>\n",
              "      <td>low</td>\n",
              "      <td>0.72</td>\n",
              "      <td>0.87</td>\n",
              "    </tr>\n",
              "    <tr>\n",
              "      <th>4</th>\n",
              "      <td>1057</td>\n",
              "      <td>2</td>\n",
              "      <td>159</td>\n",
              "      <td>3</td>\n",
              "      <td>0</td>\n",
              "      <td>1</td>\n",
              "      <td>0</td>\n",
              "      <td>sales</td>\n",
              "      <td>low</td>\n",
              "      <td>0.37</td>\n",
              "      <td>0.52</td>\n",
              "    </tr>\n",
              "  </tbody>\n",
              "</table>\n",
              "</div>"
            ],
            "text/plain": [
              "   employee_id  number_project  ...  satisfaction_level  last_evaluation\n",
              "0         1003               2  ...                0.38             0.53\n",
              "1         1005               5  ...                0.80             0.86\n",
              "2         1486               7  ...                0.11             0.88\n",
              "3         1038               5  ...                0.72             0.87\n",
              "4         1057               2  ...                0.37             0.52\n",
              "\n",
              "[5 rows x 11 columns]"
            ]
          },
          "metadata": {
            "tags": []
          },
          "execution_count": 15
        }
      ]
    },
    {
      "cell_type": "code",
      "metadata": {
        "id": "QEOEyfT9JOhn",
        "colab_type": "code",
        "colab": {
          "base_uri": "https://localhost:8080/",
          "height": 218
        },
        "outputId": "287a636a-77af-438e-e6e6-79d72b17aa13"
      },
      "source": [
        "#checking if missing values are encoded as '0'\n",
        "dataset_df.eq(0).sum()"
      ],
      "execution_count": null,
      "outputs": [
        {
          "output_type": "execute_result",
          "data": {
            "text/plain": [
              "employee_id                  0\n",
              "number_project               0\n",
              "average_montly_hours         0\n",
              "time_spend_company           0\n",
              "Work_accident            12830\n",
              "left                     11428\n",
              "promotion_last_5years    14680\n",
              "department                   0\n",
              "salary                       0\n",
              "satisfaction_level           0\n",
              "last_evaluation              0\n",
              "dtype: int64"
            ]
          },
          "metadata": {
            "tags": []
          },
          "execution_count": 16
        }
      ]
    },
    {
      "cell_type": "markdown",
      "metadata": {
        "id": "fJSgjm1_J2ir",
        "colab_type": "text"
      },
      "source": [
        "Some data sets have missing data encoded as zeros.From the above analysis,it is having zeros in the columns-work_accident,left,promotion_last_5years is quite valid.\n"
      ]
    },
    {
      "cell_type": "markdown",
      "metadata": {
        "id": "bXkSIS3ePSbU",
        "colab_type": "text"
      },
      "source": [
        "Check for duplicate rows"
      ]
    },
    {
      "cell_type": "code",
      "metadata": {
        "id": "Zh0act50PN5H",
        "colab_type": "code",
        "colab": {
          "base_uri": "https://localhost:8080/",
          "height": 487
        },
        "outputId": "ebef0de1-f6b4-4ca7-afee-350c2ddd6d0e"
      },
      "source": [
        "dataset_df_no_duplicates=dataset_df.drop_duplicates()\n",
        "print(dataset_df)\n",
        "print(dataset_df_no_duplicates)"
      ],
      "execution_count": 13,
      "outputs": [
        {
          "output_type": "stream",
          "text": [
            "       employee_id  number_project  ...  satisfaction_level  last_evaluation\n",
            "0             1003               2  ...                0.38             0.53\n",
            "1             1005               5  ...                0.80             0.86\n",
            "2             1486               7  ...                0.11             0.88\n",
            "3             1038               5  ...                0.72             0.87\n",
            "4             1057               2  ...                0.37             0.52\n",
            "...            ...             ...  ...                 ...              ...\n",
            "14994        87670               2  ...                0.40             0.57\n",
            "14995        87673               2  ...                0.37             0.48\n",
            "14996        87679               2  ...                0.37             0.53\n",
            "14997        87681               6  ...                0.11             0.96\n",
            "14998        87684               2  ...                0.37             0.52\n",
            "\n",
            "[14999 rows x 11 columns]\n",
            "       employee_id  number_project  ...  satisfaction_level  last_evaluation\n",
            "0             1003               2  ...                0.38             0.53\n",
            "1             1005               5  ...                0.80             0.86\n",
            "2             1486               7  ...                0.11             0.88\n",
            "3             1038               5  ...                0.72             0.87\n",
            "4             1057               2  ...                0.37             0.52\n",
            "...            ...             ...  ...                 ...              ...\n",
            "14994        87670               2  ...                0.40             0.57\n",
            "14995        87673               2  ...                0.37             0.48\n",
            "14996        87679               2  ...                0.37             0.53\n",
            "14997        87681               6  ...                0.11             0.96\n",
            "14998        87684               2  ...                0.37             0.52\n",
            "\n",
            "[14999 rows x 11 columns]\n"
          ],
          "name": "stdout"
        }
      ]
    },
    {
      "cell_type": "markdown",
      "metadata": {
        "id": "cU4AOb4QQh6n",
        "colab_type": "text"
      },
      "source": [
        "From the above analysis,it is obvious that there are no duplicate rows."
      ]
    },
    {
      "cell_type": "markdown",
      "metadata": {
        "id": "83ovGPfCKalD",
        "colab_type": "text"
      },
      "source": [
        "It is common knowledge that in some datasets ,not all columns are relevant and so could be 'dropped off'.One of such in our datasets is the employee_id.This does not seem relevant to our prediction and so can be dropped off. "
      ]
    },
    {
      "cell_type": "code",
      "metadata": {
        "id": "yjt0rG0fUj8-",
        "colab_type": "code",
        "colab": {
          "base_uri": "https://localhost:8080/",
          "height": 215
        },
        "outputId": "874313ed-460a-4835-e018-5a1b6d0bd52a"
      },
      "source": [
        "# Removing employee ID\n",
        "dataset_df_final = dataset_df.drop(columns='employee_id')\n",
        "dataset_df_final.head()"
      ],
      "execution_count": 14,
      "outputs": [
        {
          "output_type": "execute_result",
          "data": {
            "text/html": [
              "<div>\n",
              "<style scoped>\n",
              "    .dataframe tbody tr th:only-of-type {\n",
              "        vertical-align: middle;\n",
              "    }\n",
              "\n",
              "    .dataframe tbody tr th {\n",
              "        vertical-align: top;\n",
              "    }\n",
              "\n",
              "    .dataframe thead th {\n",
              "        text-align: right;\n",
              "    }\n",
              "</style>\n",
              "<table border=\"1\" class=\"dataframe\">\n",
              "  <thead>\n",
              "    <tr style=\"text-align: right;\">\n",
              "      <th></th>\n",
              "      <th>number_project</th>\n",
              "      <th>average_montly_hours</th>\n",
              "      <th>time_spend_company</th>\n",
              "      <th>Work_accident</th>\n",
              "      <th>left</th>\n",
              "      <th>promotion_last_5years</th>\n",
              "      <th>department</th>\n",
              "      <th>salary</th>\n",
              "      <th>satisfaction_level</th>\n",
              "      <th>last_evaluation</th>\n",
              "    </tr>\n",
              "  </thead>\n",
              "  <tbody>\n",
              "    <tr>\n",
              "      <th>0</th>\n",
              "      <td>2</td>\n",
              "      <td>157</td>\n",
              "      <td>3</td>\n",
              "      <td>0</td>\n",
              "      <td>1</td>\n",
              "      <td>0</td>\n",
              "      <td>sales</td>\n",
              "      <td>low</td>\n",
              "      <td>0.38</td>\n",
              "      <td>0.53</td>\n",
              "    </tr>\n",
              "    <tr>\n",
              "      <th>1</th>\n",
              "      <td>5</td>\n",
              "      <td>262</td>\n",
              "      <td>6</td>\n",
              "      <td>0</td>\n",
              "      <td>1</td>\n",
              "      <td>0</td>\n",
              "      <td>sales</td>\n",
              "      <td>medium</td>\n",
              "      <td>0.80</td>\n",
              "      <td>0.86</td>\n",
              "    </tr>\n",
              "    <tr>\n",
              "      <th>2</th>\n",
              "      <td>7</td>\n",
              "      <td>272</td>\n",
              "      <td>4</td>\n",
              "      <td>0</td>\n",
              "      <td>1</td>\n",
              "      <td>0</td>\n",
              "      <td>sales</td>\n",
              "      <td>medium</td>\n",
              "      <td>0.11</td>\n",
              "      <td>0.88</td>\n",
              "    </tr>\n",
              "    <tr>\n",
              "      <th>3</th>\n",
              "      <td>5</td>\n",
              "      <td>223</td>\n",
              "      <td>5</td>\n",
              "      <td>0</td>\n",
              "      <td>1</td>\n",
              "      <td>0</td>\n",
              "      <td>sales</td>\n",
              "      <td>low</td>\n",
              "      <td>0.72</td>\n",
              "      <td>0.87</td>\n",
              "    </tr>\n",
              "    <tr>\n",
              "      <th>4</th>\n",
              "      <td>2</td>\n",
              "      <td>159</td>\n",
              "      <td>3</td>\n",
              "      <td>0</td>\n",
              "      <td>1</td>\n",
              "      <td>0</td>\n",
              "      <td>sales</td>\n",
              "      <td>low</td>\n",
              "      <td>0.37</td>\n",
              "      <td>0.52</td>\n",
              "    </tr>\n",
              "  </tbody>\n",
              "</table>\n",
              "</div>"
            ],
            "text/plain": [
              "   number_project  average_montly_hours  ...  satisfaction_level  last_evaluation\n",
              "0               2                   157  ...                0.38             0.53\n",
              "1               5                   262  ...                0.80             0.86\n",
              "2               7                   272  ...                0.11             0.88\n",
              "3               5                   223  ...                0.72             0.87\n",
              "4               2                   159  ...                0.37             0.52\n",
              "\n",
              "[5 rows x 10 columns]"
            ]
          },
          "metadata": {
            "tags": []
          },
          "execution_count": 14
        }
      ]
    },
    {
      "cell_type": "markdown",
      "metadata": {
        "id": "9QhLOU9lLPAw",
        "colab_type": "text"
      },
      "source": [
        "We can also group the dataset based on some criteria like which department they belong.This may or may not be necessary.Often ,it depends on the form of insight that needs to be derived."
      ]
    },
    {
      "cell_type": "code",
      "metadata": {
        "id": "v6yBuN6SOLEA",
        "colab_type": "code",
        "colab": {
          "base_uri": "https://localhost:8080/",
          "height": 393
        },
        "outputId": "017db76b-409b-4276-e38b-7174c3f77f53"
      },
      "source": [
        "dataset_df_final.groupby('department').sum()"
      ],
      "execution_count": null,
      "outputs": [
        {
          "output_type": "execute_result",
          "data": {
            "text/html": [
              "<div>\n",
              "<style scoped>\n",
              "    .dataframe tbody tr th:only-of-type {\n",
              "        vertical-align: middle;\n",
              "    }\n",
              "\n",
              "    .dataframe tbody tr th {\n",
              "        vertical-align: top;\n",
              "    }\n",
              "\n",
              "    .dataframe thead th {\n",
              "        text-align: right;\n",
              "    }\n",
              "</style>\n",
              "<table border=\"1\" class=\"dataframe\">\n",
              "  <thead>\n",
              "    <tr style=\"text-align: right;\">\n",
              "      <th></th>\n",
              "      <th>number_project</th>\n",
              "      <th>average_montly_hours</th>\n",
              "      <th>time_spend_company</th>\n",
              "      <th>Work_accident</th>\n",
              "      <th>left</th>\n",
              "      <th>promotion_last_5years</th>\n",
              "      <th>satisfaction_level</th>\n",
              "      <th>last_evaluation</th>\n",
              "    </tr>\n",
              "    <tr>\n",
              "      <th>department</th>\n",
              "      <th></th>\n",
              "      <th></th>\n",
              "      <th></th>\n",
              "      <th></th>\n",
              "      <th></th>\n",
              "      <th></th>\n",
              "      <th></th>\n",
              "      <th></th>\n",
              "    </tr>\n",
              "  </thead>\n",
              "  <tbody>\n",
              "    <tr>\n",
              "      <th>IT</th>\n",
              "      <td>4683</td>\n",
              "      <td>248119</td>\n",
              "      <td>4256</td>\n",
              "      <td>164</td>\n",
              "      <td>273</td>\n",
              "      <td>3</td>\n",
              "      <td>758.17283</td>\n",
              "      <td>879.452250</td>\n",
              "    </tr>\n",
              "    <tr>\n",
              "      <th>RandD</th>\n",
              "      <td>3033</td>\n",
              "      <td>158030</td>\n",
              "      <td>2650</td>\n",
              "      <td>134</td>\n",
              "      <td>121</td>\n",
              "      <td>27</td>\n",
              "      <td>487.80000</td>\n",
              "      <td>560.446125</td>\n",
              "    </tr>\n",
              "    <tr>\n",
              "      <th>accounting</th>\n",
              "      <td>2934</td>\n",
              "      <td>154292</td>\n",
              "      <td>2702</td>\n",
              "      <td>96</td>\n",
              "      <td>204</td>\n",
              "      <td>14</td>\n",
              "      <td>446.68283</td>\n",
              "      <td>550.706125</td>\n",
              "    </tr>\n",
              "    <tr>\n",
              "      <th>hr</th>\n",
              "      <td>2701</td>\n",
              "      <td>146828</td>\n",
              "      <td>2480</td>\n",
              "      <td>89</td>\n",
              "      <td>215</td>\n",
              "      <td>15</td>\n",
              "      <td>442.53566</td>\n",
              "      <td>524.006125</td>\n",
              "    </tr>\n",
              "    <tr>\n",
              "      <th>management</th>\n",
              "      <td>2432</td>\n",
              "      <td>126787</td>\n",
              "      <td>2711</td>\n",
              "      <td>103</td>\n",
              "      <td>91</td>\n",
              "      <td>69</td>\n",
              "      <td>391.76566</td>\n",
              "      <td>456.234499</td>\n",
              "    </tr>\n",
              "    <tr>\n",
              "      <th>marketing</th>\n",
              "      <td>3164</td>\n",
              "      <td>171073</td>\n",
              "      <td>3063</td>\n",
              "      <td>138</td>\n",
              "      <td>203</td>\n",
              "      <td>43</td>\n",
              "      <td>530.62283</td>\n",
              "      <td>613.946125</td>\n",
              "    </tr>\n",
              "    <tr>\n",
              "      <th>product_mng</th>\n",
              "      <td>3434</td>\n",
              "      <td>180369</td>\n",
              "      <td>3135</td>\n",
              "      <td>132</td>\n",
              "      <td>198</td>\n",
              "      <td>0</td>\n",
              "      <td>559.19566</td>\n",
              "      <td>644.662250</td>\n",
              "    </tr>\n",
              "    <tr>\n",
              "      <th>sales</th>\n",
              "      <td>15634</td>\n",
              "      <td>831773</td>\n",
              "      <td>14631</td>\n",
              "      <td>587</td>\n",
              "      <td>1014</td>\n",
              "      <td>100</td>\n",
              "      <td>2543.77981</td>\n",
              "      <td>2938.236749</td>\n",
              "    </tr>\n",
              "    <tr>\n",
              "      <th>support</th>\n",
              "      <td>8479</td>\n",
              "      <td>447490</td>\n",
              "      <td>7563</td>\n",
              "      <td>345</td>\n",
              "      <td>555</td>\n",
              "      <td>20</td>\n",
              "      <td>1377.90849</td>\n",
              "      <td>1611.534499</td>\n",
              "    </tr>\n",
              "    <tr>\n",
              "      <th>technical</th>\n",
              "      <td>10548</td>\n",
              "      <td>550793</td>\n",
              "      <td>9279</td>\n",
              "      <td>381</td>\n",
              "      <td>697</td>\n",
              "      <td>28</td>\n",
              "      <td>1653.37264</td>\n",
              "      <td>1961.930624</td>\n",
              "    </tr>\n",
              "  </tbody>\n",
              "</table>\n",
              "</div>"
            ],
            "text/plain": [
              "             number_project  ...  last_evaluation\n",
              "department                   ...                 \n",
              "IT                     4683  ...       879.452250\n",
              "RandD                  3033  ...       560.446125\n",
              "accounting             2934  ...       550.706125\n",
              "hr                     2701  ...       524.006125\n",
              "management             2432  ...       456.234499\n",
              "marketing              3164  ...       613.946125\n",
              "product_mng            3434  ...       644.662250\n",
              "sales                 15634  ...      2938.236749\n",
              "support                8479  ...      1611.534499\n",
              "technical             10548  ...      1961.930624\n",
              "\n",
              "[10 rows x 8 columns]"
            ]
          },
          "metadata": {
            "tags": []
          },
          "execution_count": 18
        }
      ]
    },
    {
      "cell_type": "code",
      "metadata": {
        "id": "ooE56V2W8uHF",
        "colab_type": "code",
        "colab": {
          "base_uri": "https://localhost:8080/",
          "height": 319
        },
        "outputId": "03084d1e-3a97-400f-a8be-4a3c95ade223"
      },
      "source": [
        "#exploring the distribution of the numerical variables\n",
        "num =dataset_df_final.select_dtypes(include=[np.int64])\n",
        "num.hist(bins=50,figsize=(15,6),layout=(2,3))\n",
        "plt.suptitle(\"Numerical variables :Distribution\")\n",
        "plt.show()"
      ],
      "execution_count": 21,
      "outputs": [
        {
          "output_type": "display_data",
          "data": {
            "image/png": "[encoded data removed]",
            "text/plain": [
              "<Figure size 1080x432 with 6 Axes>"
            ]
          },
          "metadata": {
            "tags": []
          }
        }
      ]
    },
    {
      "cell_type": "code",
      "metadata": {
        "id": "n7c327f6Y11p",
        "colab_type": "code",
        "colab": {
          "base_uri": "https://localhost:8080/",
          "height": 298
        },
        "outputId": "dea25d5f-3cac-47e6-8bbd-e0b0168545fd"
      },
      "source": [
        "#retention vs department\n",
        "plt.figure(figsize =(11,4))\n",
        "sns.barplot(x=dataset_df_final[\"department\"],y=dataset_df_final[\"left\"],palette=(\"GnBu_d\"))\n",
        "sns.set(style=\"whitegrid\")\n",
        "plt.xlabel(\"Department\")\n",
        "plt.ylabel(\"Left\")\n",
        "plt.title(\"Retention by Department\")\n",
        "plt.show()"
      ],
      "execution_count": 16,
      "outputs": [
        {
          "output_type": "display_data",
          "data": {
            "image/png": "[encoded data removed]",
            "text/plain": [
              "<Figure size 792x288 with 1 Axes>"
            ]
          },
          "metadata": {
            "tags": []
          }
        }
      ]
    },
    {
      "cell_type": "code",
      "metadata": {
        "id": "XpKpdSOMaRxh",
        "colab_type": "code",
        "colab": {
          "base_uri": "https://localhost:8080/",
          "height": 298
        },
        "outputId": "df58fb2c-23c0-4a8d-b52f-f5b6e4da7a53"
      },
      "source": [
        "#retention vs salary\n",
        "plt.figure(figsize =(11,4))\n",
        "sns.barplot(x=dataset_df_final[\"salary\"],y=dataset_df_final[\"left\"],palette=(\"GnBu_d\"))\n",
        "sns.set(style=\"whitegrid\")\n",
        "plt.xlabel(\"salary\")\n",
        "plt.ylabel(\"Left\")\n",
        "plt.title(\"Retention by salary\")\n",
        "plt.show()"
      ],
      "execution_count": 17,
      "outputs": [
        {
          "output_type": "display_data",
          "data": {
            "image/png": "[encoded data removed]",
            "text/plain": [
              "<Figure size 792x288 with 1 Axes>"
            ]
          },
          "metadata": {
            "tags": []
          }
        }
      ]
    },
    {
      "cell_type": "code",
      "metadata": {
        "id": "N0y5VSiwa13J",
        "colab_type": "code",
        "colab": {
          "base_uri": "https://localhost:8080/",
          "height": 302
        },
        "outputId": "f8e77256-55ac-4838-a189-b139b084b06a"
      },
      "source": [
        "#satisfaction-level vs department\n",
        "plt.figure(figsize =(11,4))\n",
        "sns.barplot(x=dataset_df_final[\"department\"],y=dataset_df_final[\"satisfaction_level\"],palette=(\"GnBu_d\"))\n",
        "sns.set(style=\"whitegrid\")\n",
        "plt.xlabel(\"Department\")\n",
        "plt.ylabel(\"satisfaction_level\")\n",
        "plt.title(\"Satisfaction level by Department\")\n",
        "plt.show()"
      ],
      "execution_count": 19,
      "outputs": [
        {
          "output_type": "display_data",
          "data": {
            "image/png": "[encoded data removed]",
            "text/plain": [
              "<Figure size 792x288 with 1 Axes>"
            ]
          },
          "metadata": {
            "tags": []
          }
        }
      ]
    },
    {
      "cell_type": "code",
      "metadata": {
        "id": "mKBCPyqZbjZg",
        "colab_type": "code",
        "colab": {
          "base_uri": "https://localhost:8080/",
          "height": 296
        },
        "outputId": "e7c5bc7d-7e56-4de5-c8c8-d9f2a6b043e3"
      },
      "source": [
        "#work-accidents vs department\n",
        "plt.figure(figsize =(11,4))\n",
        "sns.barplot(x=dataset_df_final[\"department\"],y=dataset_df_final[\"Work_accident\"],palette=(\"GnBu_d\"))\n",
        "sns.set(style=\"whitegrid\")\n",
        "plt.xlabel(\"Department\")\n",
        "plt.ylabel(\"Work_accident\")\n",
        "plt.title(\"Work_accidents by Department\")\n",
        "plt.show()"
      ],
      "execution_count": 20,
      "outputs": [
        {
          "output_type": "display_data",
          "data": {
            "image/png": "[encoded data removed]",
            "text/plain": [
              "<Figure size 792x288 with 1 Axes>"
            ]
          },
          "metadata": {
            "tags": []
          }
        }
      ]
    },
    {
      "cell_type": "markdown",
      "metadata": {
        "id": "koMXzA50T2Sy",
        "colab_type": "text"
      },
      "source": [
        "**Displaying the Correlation Matrix**\n",
        "\n",
        "The correlation matrix basically shows the correlation betwen the variables.Each cell shows the correlation between two variables.\n"
      ]
    },
    {
      "cell_type": "code",
      "metadata": {
        "id": "hanIoxvXUWPG",
        "colab_type": "code",
        "colab": {
          "base_uri": "https://localhost:8080/",
          "height": 664
        },
        "outputId": "518a95e2-17c0-4d38-a9f3-d67da2d32e99"
      },
      "source": [
        "import matplotlib.pyplot as plt\n",
        "\n",
        "def plot_corr(df,size=10):\n",
        "    '''Function plots a graphical correlation matrix for each pair of columns in the dataframe.\n",
        "\n",
        "    Input:\n",
        "        df: pandas DataFrame\n",
        "        size: vertical and horizontal size of the plot'''\n",
        "\n",
        "    corr = df.corr()\n",
        "    fig, ax = plt.subplots(figsize=(size, size))\n",
        "    ax.legend()\n",
        "    cax = ax.matshow(corr)\n",
        "    fig.colorbar(cax)\n",
        "    plt.xticks(range(len(corr.columns)), corr.columns, rotation='vertical')\n",
        "    plt.yticks(range(len(corr.columns)), corr.columns)\n",
        "    \n",
        "plot_corr(dataset_df_final)\n"
      ],
      "execution_count": null,
      "outputs": [
        {
          "output_type": "stream",
          "text": [
            "No handles with labels found to put in legend.\n"
          ],
          "name": "stderr"
        },
        {
          "output_type": "display_data",
          "data": {
            "image/png": "[encoded data removed]",
            "text/plain": [
              "<Figure size 720x720 with 2 Axes>"
            ]
          },
          "metadata": {
            "tags": [],
            "needs_background": "light"
          }
        }
      ]
    },
    {
      "cell_type": "markdown",
      "metadata": {
        "id": "OKGY8eJVVdsV",
        "colab_type": "text"
      },
      "source": [
        "**Data Preparation**"
      ]
    },
    {
      "cell_type": "markdown",
      "metadata": {
        "id": "Bz_wFs91Vg9O",
        "colab_type": "text"
      },
      "source": [
        "Here,we prepare the dataset for the machine learning model.Firstly,it is important to note that  many machine learning algorithms cannot work with categorical data directly.Categorical data(as seen in column -departments and salary) must be converted to numbers.One hot encoding is a representation of categorical variables as binary vectors."
      ]
    },
    {
      "cell_type": "code",
      "metadata": {
        "id": "scDM9c14WSR6",
        "colab_type": "code",
        "colab": {
          "base_uri": "https://localhost:8080/",
          "height": 215
        },
        "outputId": "0632243c-28ba-4ef1-a09d-1bd7a3bef3e0"
      },
      "source": [
        "#perform One-Hot-Encoding on Categorical Data\n",
        "categorial = ['department','salary']\n",
        "dataset_df_final= pd.get_dummies(dataset_df_final, columns=categorial, drop_first=True)\n",
        "dataset_df_final.head()"
      ],
      "execution_count": null,
      "outputs": [
        {
          "output_type": "execute_result",
          "data": {
            "text/html": [
              "<div>\n",
              "<style scoped>\n",
              "    .dataframe tbody tr th:only-of-type {\n",
              "        vertical-align: middle;\n",
              "    }\n",
              "\n",
              "    .dataframe tbody tr th {\n",
              "        vertical-align: top;\n",
              "    }\n",
              "\n",
              "    .dataframe thead th {\n",
              "        text-align: right;\n",
              "    }\n",
              "</style>\n",
              "<table border=\"1\" class=\"dataframe\">\n",
              "  <thead>\n",
              "    <tr style=\"text-align: right;\">\n",
              "      <th></th>\n",
              "      <th>number_project</th>\n",
              "      <th>average_montly_hours</th>\n",
              "      <th>time_spend_company</th>\n",
              "      <th>Work_accident</th>\n",
              "      <th>left</th>\n",
              "      <th>promotion_last_5years</th>\n",
              "      <th>satisfaction_level</th>\n",
              "      <th>last_evaluation</th>\n",
              "      <th>department_RandD</th>\n",
              "      <th>department_accounting</th>\n",
              "      <th>department_hr</th>\n",
              "      <th>department_management</th>\n",
              "      <th>department_marketing</th>\n",
              "      <th>department_product_mng</th>\n",
              "      <th>department_sales</th>\n",
              "      <th>department_support</th>\n",
              "      <th>department_technical</th>\n",
              "      <th>salary_low</th>\n",
              "      <th>salary_medium</th>\n",
              "    </tr>\n",
              "  </thead>\n",
              "  <tbody>\n",
              "    <tr>\n",
              "      <th>0</th>\n",
              "      <td>2</td>\n",
              "      <td>157</td>\n",
              "      <td>3</td>\n",
              "      <td>0</td>\n",
              "      <td>1</td>\n",
              "      <td>0</td>\n",
              "      <td>0.38</td>\n",
              "      <td>0.53</td>\n",
              "      <td>0</td>\n",
              "      <td>0</td>\n",
              "      <td>0</td>\n",
              "      <td>0</td>\n",
              "      <td>0</td>\n",
              "      <td>0</td>\n",
              "      <td>1</td>\n",
              "      <td>0</td>\n",
              "      <td>0</td>\n",
              "      <td>1</td>\n",
              "      <td>0</td>\n",
              "    </tr>\n",
              "    <tr>\n",
              "      <th>1</th>\n",
              "      <td>5</td>\n",
              "      <td>262</td>\n",
              "      <td>6</td>\n",
              "      <td>0</td>\n",
              "      <td>1</td>\n",
              "      <td>0</td>\n",
              "      <td>0.80</td>\n",
              "      <td>0.86</td>\n",
              "      <td>0</td>\n",
              "      <td>0</td>\n",
              "      <td>0</td>\n",
              "      <td>0</td>\n",
              "      <td>0</td>\n",
              "      <td>0</td>\n",
              "      <td>1</td>\n",
              "      <td>0</td>\n",
              "      <td>0</td>\n",
              "      <td>0</td>\n",
              "      <td>1</td>\n",
              "    </tr>\n",
              "    <tr>\n",
              "      <th>2</th>\n",
              "      <td>7</td>\n",
              "      <td>272</td>\n",
              "      <td>4</td>\n",
              "      <td>0</td>\n",
              "      <td>1</td>\n",
              "      <td>0</td>\n",
              "      <td>0.11</td>\n",
              "      <td>0.88</td>\n",
              "      <td>0</td>\n",
              "      <td>0</td>\n",
              "      <td>0</td>\n",
              "      <td>0</td>\n",
              "      <td>0</td>\n",
              "      <td>0</td>\n",
              "      <td>1</td>\n",
              "      <td>0</td>\n",
              "      <td>0</td>\n",
              "      <td>0</td>\n",
              "      <td>1</td>\n",
              "    </tr>\n",
              "    <tr>\n",
              "      <th>3</th>\n",
              "      <td>5</td>\n",
              "      <td>223</td>\n",
              "      <td>5</td>\n",
              "      <td>0</td>\n",
              "      <td>1</td>\n",
              "      <td>0</td>\n",
              "      <td>0.72</td>\n",
              "      <td>0.87</td>\n",
              "      <td>0</td>\n",
              "      <td>0</td>\n",
              "      <td>0</td>\n",
              "      <td>0</td>\n",
              "      <td>0</td>\n",
              "      <td>0</td>\n",
              "      <td>1</td>\n",
              "      <td>0</td>\n",
              "      <td>0</td>\n",
              "      <td>1</td>\n",
              "      <td>0</td>\n",
              "    </tr>\n",
              "    <tr>\n",
              "      <th>4</th>\n",
              "      <td>2</td>\n",
              "      <td>159</td>\n",
              "      <td>3</td>\n",
              "      <td>0</td>\n",
              "      <td>1</td>\n",
              "      <td>0</td>\n",
              "      <td>0.37</td>\n",
              "      <td>0.52</td>\n",
              "      <td>0</td>\n",
              "      <td>0</td>\n",
              "      <td>0</td>\n",
              "      <td>0</td>\n",
              "      <td>0</td>\n",
              "      <td>0</td>\n",
              "      <td>1</td>\n",
              "      <td>0</td>\n",
              "      <td>0</td>\n",
              "      <td>1</td>\n",
              "      <td>0</td>\n",
              "    </tr>\n",
              "  </tbody>\n",
              "</table>\n",
              "</div>"
            ],
            "text/plain": [
              "   number_project  average_montly_hours  ...  salary_low  salary_medium\n",
              "0               2                   157  ...           1              0\n",
              "1               5                   262  ...           0              1\n",
              "2               7                   272  ...           0              1\n",
              "3               5                   223  ...           1              0\n",
              "4               2                   159  ...           1              0\n",
              "\n",
              "[5 rows x 19 columns]"
            ]
          },
          "metadata": {
            "tags": []
          },
          "execution_count": 19
        }
      ]
    },
    {
      "cell_type": "markdown",
      "metadata": {
        "id": "9PEpFtaNZgTW",
        "colab_type": "text"
      },
      "source": [
        "Identify target and feature variables"
      ]
    },
    {
      "cell_type": "code",
      "metadata": {
        "id": "dREMleHMVpst",
        "colab_type": "code",
        "colab": {}
      },
      "source": [
        "#identify the feature and target values\n",
        "target_value=dataset_df_final['left']\n",
        "feature_value=dataset_df_final.drop(['left'],axis=1)"
      ],
      "execution_count": null,
      "outputs": []
    },
    {
      "cell_type": "markdown",
      "metadata": {
        "id": "oR5kuWK2Z2K_",
        "colab_type": "text"
      },
      "source": [
        "Check whether dataset is balanced or unbalanced"
      ]
    },
    {
      "cell_type": "code",
      "metadata": {
        "id": "_Cf1IP3EaGA0",
        "colab_type": "code",
        "colab": {
          "base_uri": "https://localhost:8080/",
          "height": 296
        },
        "outputId": "cec8b0ac-a2d6-4aee-c1af-5cdc64b88a41"
      },
      "source": [
        "dataset_df_final['left'].value_counts()\n",
        "sns.countplot(x ='left',data=dataset_df_final)\n"
      ],
      "execution_count": null,
      "outputs": [
        {
          "output_type": "execute_result",
          "data": {
            "text/plain": [
              "<matplotlib.axes._subplots.AxesSubplot at 0x7f24e1ec22b0>"
            ]
          },
          "metadata": {
            "tags": []
          },
          "execution_count": 21
        },
        {
          "output_type": "display_data",
          "data": {
            "image/png": "[encoded data removed]",
            "text/plain": [
              "<Figure size 432x288 with 1 Axes>"
            ]
          },
          "metadata": {
            "tags": [],
            "needs_background": "light"
          }
        }
      ]
    },
    {
      "cell_type": "markdown",
      "metadata": {
        "id": "o3nkKn49aRav",
        "colab_type": "text"
      },
      "source": [
        "It is clear that the dataset is unbalanced i.e there is a disproportionate ratio of the observation in each class and this could lead to overfitting.\n",
        "\n",
        "This informs our choice of algorithm and evaluation metric."
      ]
    },
    {
      "cell_type": "code",
      "metadata": {
        "id": "Ztrf9O6db1AU",
        "colab_type": "code",
        "colab": {}
      },
      "source": [
        "from sklearn.model_selection import train_test_split\n",
        "x_train,x_test,y_train,y_test = train_test_split(feature_value,target_value,test_size =0.30)\n",
        "\n",
        "#split the dataset into train and test data \n",
        "#x_train represents the feature value of training data\n",
        "#x_test represents the feature value of test data\n",
        "#y_train represents the target value of training data\n",
        "#y_test represents the feature value of test data"
      ],
      "execution_count": null,
      "outputs": []
    },
    {
      "cell_type": "markdown",
      "metadata": {
        "id": "28QJt2INeZAA",
        "colab_type": "text"
      },
      "source": [
        "Since the range of values of the raw data vary widely ,the objective function in some classifiers will not work properly without normalization.Here,we employ Standardization."
      ]
    },
    {
      "cell_type": "code",
      "metadata": {
        "id": "TbC0CfUWezrd",
        "colab_type": "code",
        "colab": {}
      },
      "source": [
        "from sklearn.preprocessing import StandardScaler\n",
        "#feature scaling_standardization\n",
        "scaler = StandardScaler()\n",
        "x_train = scaler.fit_transform(x_train)\n",
        "x_test=scaler.fit_transform(x_test)\n"
      ],
      "execution_count": null,
      "outputs": []
    },
    {
      "cell_type": "markdown",
      "metadata": {
        "id": "evQ-SE2-mmut",
        "colab_type": "text"
      },
      "source": [
        "**DEVELOP  A BASELINE MODEL**"
      ]
    },
    {
      "cell_type": "markdown",
      "metadata": {
        "id": "DkJCOpBZmvLm",
        "colab_type": "text"
      },
      "source": [
        "**We start by looking at Logistic Regression**"
      ]
    },
    {
      "cell_type": "code",
      "metadata": {
        "id": "oiXb-Agpmyz4",
        "colab_type": "code",
        "colab": {
          "base_uri": "https://localhost:8080/",
          "height": 218
        },
        "outputId": "3fc16dff-f9bc-4af3-be1d-4ea2aef2fe88"
      },
      "source": [
        "from sklearn.linear_model import LogisticRegression\n",
        "from sklearn.metrics import confusion_matrix\n",
        "from sklearn.metrics import classification_report\n",
        "from sklearn.metrics import accuracy_score,f1_score\n",
        "\n",
        "model = LogisticRegression(solver='lbfgs')\n",
        "model.fit(x_train, y_train)\n",
        "\n",
        "predictions = model.predict(x_test)\n",
        "\n",
        "print(\"f1-score {0:.2f}%\".format(100*f1_score(predictions, y_test)))\n",
        "print(confusion_matrix(y_test, predictions))\n",
        "print(classification_report(y_test, predictions))"
      ],
      "execution_count": null,
      "outputs": [
        {
          "output_type": "stream",
          "text": [
            "f1-score 43.56%\n",
            "[[3218  245]\n",
            " [ 680  357]]\n",
            "              precision    recall  f1-score   support\n",
            "\n",
            "           0       0.83      0.93      0.87      3463\n",
            "           1       0.59      0.34      0.44      1037\n",
            "\n",
            "    accuracy                           0.79      4500\n",
            "   macro avg       0.71      0.64      0.65      4500\n",
            "weighted avg       0.77      0.79      0.77      4500\n",
            "\n"
          ],
          "name": "stdout"
        }
      ]
    },
    {
      "cell_type": "markdown",
      "metadata": {
        "id": "6d4g2tu2EE13",
        "colab_type": "text"
      },
      "source": [
        "Let us try Random Forest Algorithm(a more advanced algorithm)"
      ]
    },
    {
      "cell_type": "markdown",
      "metadata": {
        "id": "J3d8qaR7rkzO",
        "colab_type": "text"
      },
      "source": [
        "**Let us try Random Forest Algorithm(a more advanced algorithm)**\n",
        "\n",
        "\n",
        "\n"
      ]
    },
    {
      "cell_type": "code",
      "metadata": {
        "id": "KF0xXgnKrtbd",
        "colab_type": "code",
        "colab": {
          "base_uri": "https://localhost:8080/",
          "height": 406
        },
        "outputId": "dab5902f-c032-4323-af2d-f392a48c6f3a"
      },
      "source": [
        "\n",
        "from sklearn.ensemble import RandomForestClassifier\n",
        "from sklearn.metrics import confusion_matrix\n",
        "from sklearn.metrics import classification_report\n",
        "from sklearn.pipeline import Pipeline\n",
        "from sklearn.model_selection import KFold\n",
        "from sklearn.metrics import accuracy_score,make_scorer,f1_score\n",
        "from sklearn.model_selection import GridSearchCV\n",
        "\n",
        "#building an Random Forest pipeline\n",
        "pipe = Pipeline([('clf', RandomForestClassifier())])\n",
        "#RF hyperparameters declaration\n",
        "search_space = [\n",
        "  {\n",
        "    'clf__n_estimators': [50,100,150],\n",
        "    'clf__max_depth': [5,15,20],\n",
        "    'clf__min_samples_split': [1,3,5],\n",
        "    'clf__min_samples_leaf': [1,3,5],\n",
        "    'clf__max_features':[0.7,\"auto\"]\n",
        "  }\n",
        "]\n",
        "# Define K-fold cross validation,Where k=10\n",
        "kfold = KFold(n_splits=10, random_state=42)\n",
        "# Precision as score\n",
        "scoring = { 'F1Score':make_scorer(f1_score)}\n",
        "# Define grid search to find the best model setting\n",
        "grid = GridSearchCV(\n",
        "  pipe,\n",
        "  param_grid=search_space,\n",
        "  cv=kfold,\n",
        "  scoring=scoring,\n",
        "  refit='F1Score',\n",
        "  verbose=1,\n",
        "  n_jobs=-1\n",
        ")\n",
        "model = grid.fit(x_train, y_train)\n",
        "\n",
        "predictions = model.predict(x_test)\n",
        "\n",
        "print(\"f1-score {0:.2f}%\".format(100*f1_score(predictions, y_test)))\n",
        "print(confusion_matrix(y_test, predictions))\n",
        "print(classification_report(y_test, predictions))\n",
        "\n"
      ],
      "execution_count": null,
      "outputs": [
        {
          "output_type": "stream",
          "text": [
            "/usr/local/lib/python3.6/dist-packages/sklearn/model_selection/_split.py:296: FutureWarning: Setting a random_state has no effect since shuffle is False. This will raise an error in 0.24. You should leave random_state to its default (None), or set shuffle=True.\n",
            "  FutureWarning\n",
            "[Parallel(n_jobs=-1)]: Using backend LokyBackend with 2 concurrent workers.\n"
          ],
          "name": "stderr"
        },
        {
          "output_type": "stream",
          "text": [
            "Fitting 10 folds for each of 162 candidates, totalling 1620 fits\n"
          ],
          "name": "stdout"
        },
        {
          "output_type": "stream",
          "text": [
            "[Parallel(n_jobs=-1)]: Done  86 tasks      | elapsed:   36.4s\n",
            "[Parallel(n_jobs=-1)]: Done 236 tasks      | elapsed:  1.6min\n",
            "[Parallel(n_jobs=-1)]: Done 518 tasks      | elapsed:  3.0min\n",
            "[Parallel(n_jobs=-1)]: Done 878 tasks      | elapsed:  7.0min\n",
            "[Parallel(n_jobs=-1)]: Done 1328 tasks      | elapsed: 11.3min\n",
            "[Parallel(n_jobs=-1)]: Done 1620 out of 1620 | elapsed: 13.6min finished\n"
          ],
          "name": "stderr"
        },
        {
          "output_type": "stream",
          "text": [
            "f1-score 97.06%\n",
            "[[3451   12]\n",
            " [  48  989]]\n",
            "              precision    recall  f1-score   support\n",
            "\n",
            "           0       0.99      1.00      0.99      3463\n",
            "           1       0.99      0.95      0.97      1037\n",
            "\n",
            "    accuracy                           0.99      4500\n",
            "   macro avg       0.99      0.98      0.98      4500\n",
            "weighted avg       0.99      0.99      0.99      4500\n",
            "\n"
          ],
          "name": "stdout"
        }
      ]
    }
  ]
}